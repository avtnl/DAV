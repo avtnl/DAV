{
 "cells": [
  {
   "cell_type": "markdown",
   "metadata": {},
   "source": [
    "# Demo for network analysis"
   ]
  },
  {
   "cell_type": "code",
   "execution_count": 1,
   "metadata": {},
   "outputs": [
    {
     "data": {
      "text/plain": [
       "{'raw': 'data/raw',\n",
       " 'processed': 'data/processed',\n",
       " 'image': 'img',\n",
       " 'input': '_chat.txt',\n",
       " 'preprocess': False,\n",
       " 'current_dac': 'whatsapp-20250910-005041-dac-cleaned.parq',\n",
       " 'current': 'whatsapp-20250910-002822-maap-cleaned.parq',\n",
       " 'raw_1': '_chat_maap.txt',\n",
       " 'raw_2a': '_chat_vooranger_golfmaten.txt',\n",
       " 'raw_2b': '_chat_golfmaten.txt',\n",
       " 'raw_3': '_chat_dac.txt',\n",
       " 'raw_4': '_chat_tillies.txt',\n",
       " 'current_1': 'whatsapp-20250910-002822-maap-cleaned.parq',\n",
       " 'current_2a': 'whatsapp-20250910-004727-golf-cleaned.parq',\n",
       " 'current_2b': 'whatsapp-20250910-012654-voorganger-golf-cleaned.parq',\n",
       " 'current_3': 'whatsapp-20250910-005041-dac-cleaned.parq',\n",
       " 'current_4': 'whatsapp-20250910-012135-til-cleaned.parq',\n",
       " 'inputpath': 'whatsapp-20250910-002822-maap-cleaned.csv',\n",
       " 'datetime_format': '%d-%m-%Y, %H:%M:%S',\n",
       " 'drop_authors': []}"
      ]
     },
     "execution_count": 1,
     "metadata": {},
     "output_type": "execute_result"
    }
   ],
   "source": [
    "import tomllib\n",
    "from pathlib import Path\n",
    "\n",
    "configfile = Path(\"../config.toml\")\n",
    "with open(configfile, \"rb\") as f:\n",
    "    tomlconfig = tomllib.load(f)\n",
    "tomlconfig\n",
    "# load the toml for the current file\n"
   ]
  },
  {
   "cell_type": "markdown",
   "metadata": {},
   "source": [
    "The `NetworkAnalysis` tool will take in a `pd.DataFrame` and will calculate a social graph. The authors are the nodes, the edges (lines between nodes) are defined as a message within a specified threshold in seconds. "
   ]
  },
  {
   "cell_type": "code",
   "execution_count": 3,
   "metadata": {},
   "outputs": [
    {
     "ename": "ModuleNotFoundError",
     "evalue": "No module named 'wa_analyzer.network_analysis'",
     "output_type": "error",
     "traceback": [
      "\u001b[31m---------------------------------------------------------------------------\u001b[39m",
      "\u001b[31mModuleNotFoundError\u001b[39m                       Traceback (most recent call last)",
      "\u001b[36mCell\u001b[39m\u001b[36m \u001b[39m\u001b[32mIn[3]\u001b[39m\u001b[32m, line 1\u001b[39m\n\u001b[32m----> \u001b[39m\u001b[32m1\u001b[39m \u001b[38;5;28;01mfrom\u001b[39;00m\u001b[38;5;250m \u001b[39m\u001b[34;01mwa_analyzer\u001b[39;00m\u001b[34;01m.\u001b[39;00m\u001b[34;01mnetwork_analysis\u001b[39;00m\u001b[38;5;250m \u001b[39m\u001b[38;5;28;01mimport\u001b[39;00m Config, NetworkAnalysis\n\u001b[32m      2\u001b[39m \u001b[38;5;28;01mfrom\u001b[39;00m\u001b[38;5;250m \u001b[39m\u001b[34;01mdataclasses\u001b[39;00m\u001b[38;5;250m \u001b[39m\u001b[38;5;28;01mimport\u001b[39;00m dataclass\n\u001b[32m      4\u001b[39m datafile = Path(\u001b[33m\"\u001b[39m\u001b[33m..\u001b[39m\u001b[33m\"\u001b[39m) / tomlconfig[\u001b[33m\"\u001b[39m\u001b[33mprocessed\u001b[39m\u001b[33m\"\u001b[39m] / tomlconfig[\u001b[33m\"\u001b[39m\u001b[33mcurrent\u001b[39m\u001b[33m\"\u001b[39m]\n",
      "\u001b[31mModuleNotFoundError\u001b[39m: No module named 'wa_analyzer.network_analysis'"
     ]
    }
   ],
   "source": [
    "from wa_analyzer.network_analysis import Config, NetworkAnalysis\n",
    "from dataclasses import dataclass\n",
    "\n",
    "datafile = Path(\"..\") / tomlconfig[\"processed\"] / tomlconfig[\"current\"]\n",
    "config  = Config(\n",
    "    time_col = \"timestamp\",\n",
    "    node_col = \"author\",\n",
    "    seconds = 600,\n",
    "    datafile=datafile,\n",
    ")"
   ]
  },
  {
   "cell_type": "markdown",
   "metadata": {},
   "source": [
    "We can modify how many days in the past we want to look at with `cutoff_days`, and the `node_threshold` will filter out nodes with less than that many edges."
   ]
  },
  {
   "cell_type": "code",
   "execution_count": null,
   "metadata": {},
   "outputs": [],
   "source": [
    "na = NetworkAnalysis(config)\n",
    "na.process(\"Network Analysis\", layout=\"Spring Layout\", cutoff_days=None, node_threshold=1, node_scale=2.0)"
   ]
  },
  {
   "cell_type": "markdown",
   "metadata": {},
   "source": [
    "The `.windows` will show the evolution over time. The `window_days` gives the size of the window, and `overlap_days` the number of days each window can overlap."
   ]
  },
  {
   "cell_type": "code",
   "execution_count": null,
   "metadata": {},
   "outputs": [],
   "source": [
    "fig = na.windows(cutoff_days=100, edge_seconds=600, window_days=30, overlap_days=10, node_threshold=1)\n",
    "fig.show()"
   ]
  },
  {
   "cell_type": "code",
   "execution_count": null,
   "metadata": {},
   "outputs": [],
   "source": []
  }
 ],
 "metadata": {
  "kernelspec": {
   "display_name": "dav",
   "language": "python",
   "name": "python3"
  },
  "language_info": {
   "codemirror_mode": {
    "name": "ipython",
    "version": 3
   },
   "file_extension": ".py",
   "mimetype": "text/x-python",
   "name": "python",
   "nbconvert_exporter": "python",
   "pygments_lexer": "ipython3",
   "version": "3.12.11"
  }
 },
 "nbformat": 4,
 "nbformat_minor": 2
}
